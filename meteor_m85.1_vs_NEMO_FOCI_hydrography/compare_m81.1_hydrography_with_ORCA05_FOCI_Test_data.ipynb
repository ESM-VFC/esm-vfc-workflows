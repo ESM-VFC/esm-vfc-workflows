{
 "cells": [
  {
   "cell_type": "markdown",
   "metadata": {},
   "source": [
    "# Meteor M85/1 cruise vs. FOCI NEMO Test data"
   ]
  },
  {
   "cell_type": "markdown",
   "metadata": {},
   "source": [
    "## Description\n",
    "\n",
    "We use [`pangaeapy`](https://github.com/pangaea-data-publisher/pangaeapy) to load hydrographic observational data from Meteor cruise M85 and\n",
    "- plot positions on a map\n",
    "- create a [temperature-salinity diagram](https://en.wikipedia.org/wiki/Temperature%E2%80%93salinity_diagram) of the whole cruise.\n",
    "\n",
    "We load a NEMO test dataset that covers the same time on the calendar and\n",
    "- plot surface temperature on a map together with the observed temperature\n",
    "- select data for the same locations and time stamps as in the observational data set and repeate the temperature-salinity diagrams\n",
    " \n",
    "Along the way, there's a few obstacles:\n",
    "- `pangaeapy` datasets do not have a `__repr__`, so we monkey patch it to have one.\n",
    "- Selecting NEMO data on a curvilinear horizontal grid is not directly implemented in xarray, so we use [`xorca_lonlat2ij`](git.geomar.de/python/xorca_lonlat2ij) to find closest indices on the sphere.\n",
    "- We need to un-elegantly mask the data using the fact that over land, the values never change from an exact `0`, because the mask info is in a different file (the mesh-mask) than the actual data.\n",
    "\n",
    "_**Note** that we cannot expect a lot of similarity between the in-sity observational data and a free running climate model._"
   ]
  },
  {
   "cell_type": "markdown",
   "metadata": {},
   "source": [
    "## Parameters"
   ]
  },
  {
   "cell_type": "code",
   "execution_count": null,
   "metadata": {},
   "outputs": [],
   "source": [
    "# parameters\n",
    "\n",
    "esm_vfc_data_dir = \"../esm-vfc-data/\"\n",
    "catalog_url = \"https://raw.githubusercontent.com/ESM-VFC/esm-vfc-catalogs/master/catalogs/NEMO_ORCA05_FOCI_Test_Minimal.yaml\"\n",
    "obs_data_doi = \"10.1594/PANGAEA.854070\"  # Kieke et al. (2015), M85/1"
   ]
  },
  {
   "cell_type": "markdown",
   "metadata": {},
   "source": [
    "## Tech preamble"
   ]
  },
  {
   "cell_type": "code",
   "execution_count": null,
   "metadata": {},
   "outputs": [],
   "source": [
    "import numpy as np\n",
    "import xarray as xr"
   ]
  },
  {
   "cell_type": "code",
   "execution_count": null,
   "metadata": {},
   "outputs": [],
   "source": [
    "# set up intake catalog\n",
    "import intake\n",
    "from esmvfc_cattools import fetch_zenodo_data\n",
    "import os\n",
    "\n",
    "os.environ[\"ESM_VFC_DATA_DIR\"] = esm_vfc_data_dir"
   ]
  },
  {
   "cell_type": "code",
   "execution_count": null,
   "metadata": {},
   "outputs": [],
   "source": [
    "# be able to load data directly from Pangaea.de\n",
    "from pangaeapy.pandataset import PanDataSet"
   ]
  },
  {
   "cell_type": "code",
   "execution_count": null,
   "metadata": {},
   "outputs": [],
   "source": [
    "# set up plotting\n",
    "import hvplot.pandas\n",
    "import hvplot.xarray\n",
    "import geoviews.feature as gf\n",
    "from cartopy import crs"
   ]
  },
  {
   "cell_type": "code",
   "execution_count": null,
   "metadata": {},
   "outputs": [],
   "source": [
    "# install and import a tool for looking up nemo indices\n",
    "%pip install git+https://git.geomar.de/python/xorca_lonlat2ij.git@v1.0.0\n",
    "import xorca_lonlat2ij as xll2ij"
   ]
  },
  {
   "cell_type": "markdown",
   "metadata": {},
   "source": [
    "## Monkey patch pangeapy to have a nice repr"
   ]
  },
  {
   "cell_type": "code",
   "execution_count": null,
   "metadata": {},
   "outputs": [],
   "source": [
    "def pandataset_repr(pandata):\n",
    "    return f\"PanDataSet({pandata.id})\"\n",
    "\n",
    "def pandataset_repr_pretty(pandata, pp=None, cycle=None):\n",
    "    return pp.text(f\"PanDataSet({pandata.id}): {pandata.citation}\")\n",
    "\n",
    "PanDataSet.__repr__ = pandataset_repr\n",
    "PanDataSet._repr_pretty_ = pandataset_repr_pretty"
   ]
  },
  {
   "cell_type": "markdown",
   "metadata": {
    "nteract": {
     "transient": {
      "deleting": false
     }
    }
   },
   "source": [
    "## Get obs data, extract near-surface measurements, plot positions"
   ]
  },
  {
   "cell_type": "code",
   "execution_count": null,
   "metadata": {},
   "outputs": [],
   "source": [
    "obs_data = PanDataSet(obs_data_doi)\n",
    "obs_df = obs_data.data  # Pandas dataframe"
   ]
  },
  {
   "cell_type": "code",
   "execution_count": null,
   "metadata": {},
   "outputs": [],
   "source": [
    "display(obs_data)"
   ]
  },
  {
   "cell_type": "code",
   "execution_count": null,
   "metadata": {},
   "outputs": [],
   "source": [
    "# restrict to measurements at minimal depth per Event (= station)\n",
    "near_surface_obs = obs_df.loc[\n",
    "    obs_df.groupby(\"Event\")[\"Depth water\"].idxmin()\n",
    "]\n",
    "near_surface_obs = near_surface_obs.set_index(\"Event\")\n",
    "near_surface_obs"
   ]
  },
  {
   "cell_type": "code",
   "execution_count": null,
   "metadata": {},
   "outputs": [],
   "source": [
    "(\n",
    "    near_surface_obs.hvplot(\n",
    "        \"Longitude\", \"Latitude\", geo=True, kind=\"points\")\n",
    "    * gf.coastline\n",
    ")"
   ]
  },
  {
   "cell_type": "code",
   "execution_count": null,
   "metadata": {},
   "outputs": [],
   "source": [
    "(\n",
    "    obs_df.hvplot.scatter(\"Tpot\", \"Sal\", alpha=0.2, label=\"all data\")\n",
    "    * near_surface_obs.hvplot.scatter(\"Tpot\", \"Sal\", alpha=0.8, label=\"surface data\")\n",
    ")"
   ]
  },
  {
   "cell_type": "markdown",
   "metadata": {},
   "source": [
    "_**FIXME:** Hover tool shows wrong values (\"Latitude: 7945355th\"???)._"
   ]
  },
  {
   "cell_type": "markdown",
   "metadata": {
    "nteract": {
     "transient": {
      "deleting": false
     }
    }
   },
   "source": [
    "## Load catalog and fetch data"
   ]
  },
  {
   "cell_type": "code",
   "execution_count": null,
   "metadata": {},
   "outputs": [],
   "source": [
    "model_data_cat = intake.open_catalog(catalog_url)\n",
    "fetch_zenodo_data(\n",
    "    model_data_cat[\"NEMO_ORCA05_FOCI_Test_Minimal_grid_T\"]\n",
    ")\n",
    "fetch_zenodo_data(\n",
    "    model_data_cat[\"NEMO_ORCA05_FOCI_Test_Minimal_mesh_mask\"]\n",
    ")"
   ]
  },
  {
   "cell_type": "markdown",
   "metadata": {},
   "source": [
    "## Restrict to North Atlantic, calc mean SST, plot with obs positions"
   ]
  },
  {
   "cell_type": "code",
   "execution_count": null,
   "metadata": {},
   "outputs": [],
   "source": [
    "# hydrographic data\n",
    "model_dataset = model_data_cat[\"NEMO_ORCA05_FOCI_Test_Minimal_grid_T\"].to_dask()\n",
    "model_dataset = model_dataset.set_coords([\"nav_lat\", \"nav_lon\"])\n",
    "model_dataset = model_dataset.isel(x=slice(410, 620), y=slice(320, 450))\n",
    "model_dataset = xr.decode_cf(model_dataset)\n",
    "\n",
    "# Need the grid definitions\n",
    "model_meshmask = model_data_cat[\"NEMO_ORCA05_FOCI_Test_Minimal_mesh_mask\"].to_dask()\n",
    "model_meshmask = model_meshmask.isel(x=slice(410, 620), y=slice(320, 450))\n",
    "model_meshmask = xr.decode_cf(model_meshmask)"
   ]
  },
  {
   "cell_type": "code",
   "execution_count": null,
   "metadata": {},
   "outputs": [],
   "source": [
    "display(model_dataset)"
   ]
  },
  {
   "cell_type": "code",
   "execution_count": null,
   "metadata": {},
   "outputs": [],
   "source": [
    "display(model_meshmask)"
   ]
  },
  {
   "cell_type": "code",
   "execution_count": null,
   "metadata": {},
   "outputs": [],
   "source": [
    "# need compute / cast to numpy array here in order for datashade to work\n",
    "# (see https://datashader.org/user_guide/Performance.html)\n",
    "model_mean_sst = model_dataset.sosstsst.mean(\"time_counter\").compute()\n",
    "model_mean_sst = model_mean_sst.where(model_mean_sst != 0)"
   ]
  },
  {
   "cell_type": "code",
   "execution_count": null,
   "metadata": {},
   "outputs": [],
   "source": [
    "(\n",
    "    model_mean_sst.hvplot.quadmesh(\n",
    "        \"nav_lon\", \"nav_lat\",\n",
    "        geo=True, datashade=True)\n",
    "    * near_surface_obs.hvplot(\n",
    "        \"Longitude\", \"Latitude\",\n",
    "        geo=True, kind=\"points\", color=\"red\")\n",
    "    * gf.coastline\n",
    ")"
   ]
  },
  {
   "cell_type": "markdown",
   "metadata": {},
   "source": [
    "## Extract model data along ship track (surface positions)"
   ]
  },
  {
   "cell_type": "code",
   "execution_count": null,
   "metadata": {},
   "outputs": [],
   "source": [
    "xll2ij.get_ij?"
   ]
  },
  {
   "cell_type": "code",
   "execution_count": null,
   "metadata": {},
   "outputs": [],
   "source": [
    "positions = list(zip(\n",
    "    near_surface_obs[\"Latitude\"],\n",
    "    near_surface_obs[\"Longitude\"],\n",
    "))\n",
    "\n",
    "depths = near_surface_obs[\"Depth water\"].to_xarray()\n",
    "depths\n",
    "\n",
    "times = near_surface_obs[\"Date/Time\"].to_xarray()\n",
    "\n",
    "lat_ind, lon_ind = xll2ij.get_ij(\n",
    "    model_meshmask, positions, 't', xgcm=False, xarray_out=True)\n",
    "lat_ind = lat_ind.rename({\"location\": \"Event\"})\n",
    "lon_ind = lon_ind.rename({\"location\": \"Event\"})"
   ]
  },
  {
   "cell_type": "code",
   "execution_count": null,
   "metadata": {},
   "outputs": [],
   "source": [
    "# select\n",
    "ship_track_data = model_dataset.isel(y=lat_ind, x=lon_ind)\n",
    "ship_track_data = ship_track_data.sel(deptht=depths, method=\"nearest\")\n",
    "ship_track_data = ship_track_data.sel(time_counter=times, method=\"nearest\")\n",
    "\n",
    "# mask\n",
    "ship_track_data = ship_track_data.where(ship_track_data.votemper != 0)\n",
    "\n",
    "display(ship_track_data)"
   ]
  },
  {
   "cell_type": "code",
   "execution_count": null,
   "metadata": {},
   "outputs": [],
   "source": [
    "(\n",
    "    ship_track_data.to_dataframe().hvplot.scatter(\"votemper\", \"vosaline\", label=\"surface data, model\")\n",
    "    * near_surface_obs.hvplot.scatter(\"Tpot\", \"Sal\", alpha=0.8, label=\"surface data, obs\")\n",
    ")"
   ]
  },
  {
   "cell_type": "markdown",
   "metadata": {},
   "source": [
    "## Extract model data along ship track (all depths)"
   ]
  },
  {
   "cell_type": "code",
   "execution_count": null,
   "metadata": {},
   "outputs": [],
   "source": [
    "positions = list(zip(\n",
    "    obs_df[\"Latitude\"],\n",
    "    obs_df[\"Longitude\"],\n",
    "))\n",
    "\n",
    "depths = obs_df[\"Depth water\"].to_xarray()\n",
    "depths\n",
    "\n",
    "times = obs_df[\"Date/Time\"].to_xarray()\n",
    "\n",
    "lat_ind, lon_ind = xll2ij.get_ij(\n",
    "    model_meshmask, positions, 't', xgcm=False, xarray_out=True)\n",
    "lat_ind = lat_ind.rename({\"location\": \"index\"})\n",
    "lon_ind = lon_ind.rename({\"location\": \"index\"})"
   ]
  },
  {
   "cell_type": "code",
   "execution_count": null,
   "metadata": {},
   "outputs": [],
   "source": [
    "# select\n",
    "ship_track_data = model_dataset.isel(y=lat_ind, x=lon_ind)\n",
    "ship_track_data = ship_track_data.sel(deptht=depths, method=\"nearest\")\n",
    "ship_track_data = ship_track_data.sel(time_counter=times, method=\"nearest\")\n",
    "\n",
    "# mask\n",
    "ship_track_data = ship_track_data.where(ship_track_data.votemper != 0)\n",
    "\n",
    "display(ship_track_data)"
   ]
  },
  {
   "cell_type": "code",
   "execution_count": null,
   "metadata": {},
   "outputs": [],
   "source": [
    "(\n",
    "    ship_track_data.to_dataframe().hvplot.scatter(\n",
    "        \"votemper\", \"vosaline\", alpha=0.4, label=\"surface data, model\"\n",
    "    )\n",
    "    * obs_df.hvplot.scatter(\n",
    "        \"Tpot\", \"Sal\", alpha=0.4, label=\"surface data, obs\"\n",
    "    )\n",
    ")"
   ]
  }
 ],
 "metadata": {
  "kernelspec": {
   "display_name": "Python 3",
   "language": "python",
   "name": "python3"
  },
  "language_info": {
   "codemirror_mode": {
    "name": "ipython",
    "version": 3
   },
   "file_extension": ".py",
   "mimetype": "text/x-python",
   "name": "python",
   "nbconvert_exporter": "python",
   "pygments_lexer": "ipython3",
   "version": "3.8.2"
  },
  "nteract": {
   "version": "0.22.4"
  }
 },
 "nbformat": 4,
 "nbformat_minor": 4
}
