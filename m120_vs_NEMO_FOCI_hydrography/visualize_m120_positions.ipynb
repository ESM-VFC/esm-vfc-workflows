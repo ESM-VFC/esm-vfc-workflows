{
 "cells": [
  {
   "cell_type": "markdown",
   "metadata": {},
   "source": [
    "# Hydrographic obs from the M120 cruise and from NEMO"
   ]
  },
  {
   "cell_type": "code",
   "execution_count": null,
   "metadata": {},
   "outputs": [],
   "source": [
    "# parameters\n",
    "\n",
    "esm_vfc_data_dir = \"../esm-vfc-data/\"\n",
    "catalog_url = \"https://raw.githubusercontent.com/ESM-VFC/esm-vfc-catalogs/master/catalogs/NEMO_ORCA05_FOCI_Test_Minimal.yaml\"\n",
    "obs_data_doi = \"10.1594/PANGAEA.868654\""
   ]
  },
  {
   "cell_type": "markdown",
   "metadata": {},
   "source": [
    "## Tech preamble"
   ]
  },
  {
   "cell_type": "code",
   "execution_count": null,
   "metadata": {},
   "outputs": [],
   "source": [
    "# set up intake catalog\n",
    "import intake\n",
    "from esmvfc_cattools import fetch_zenodo_data\n",
    "import os\n",
    "\n",
    "os.environ[\"ESM_VFC_DATA_DIR\"] = esm_vfc_data_dir"
   ]
  },
  {
   "cell_type": "code",
   "execution_count": null,
   "metadata": {},
   "outputs": [],
   "source": [
    "# be able to load data directly from Pangaea.de\n",
    "from pangaeapy.pandataset import PanDataSet"
   ]
  },
  {
   "cell_type": "code",
   "execution_count": null,
   "metadata": {},
   "outputs": [],
   "source": [
    "# set up plotting\n",
    "import hvplot.pandas\n",
    "import hvplot.xarray\n",
    "import geoviews.feature as gf\n",
    "from cartopy import crs"
   ]
  },
  {
   "cell_type": "code",
   "execution_count": null,
   "metadata": {},
   "outputs": [],
   "source": [
    "# install and import a tool for looking up nemo indices\n",
    "%pip install git+https://git.geomar.de/python/xorca_lonlat2ij.git@v1.0.0\n",
    "import xorca_lonlat2ij as xll2ij"
   ]
  },
  {
   "cell_type": "markdown",
   "metadata": {
    "nteract": {
     "transient": {
      "deleting": false
     }
    }
   },
   "source": [
    "## Get obs data, extract near-surface measurements, plot positions"
   ]
  },
  {
   "cell_type": "code",
   "execution_count": null,
   "metadata": {},
   "outputs": [],
   "source": [
    "obs_data = PanDataSet(obs_data_doi)\n",
    "obs_df = obs_data.data  # Pandas dataframe"
   ]
  },
  {
   "cell_type": "code",
   "execution_count": null,
   "metadata": {},
   "outputs": [],
   "source": [
    "display(obs_data.title)\n",
    "display(obs_df.head())"
   ]
  },
  {
   "cell_type": "code",
   "execution_count": null,
   "metadata": {},
   "outputs": [],
   "source": [
    "near_surface_obs = obs_df.loc[\n",
    "    obs_df.groupby(\"Event\")[\"Depth water\"].idxmin()\n",
    "]\n",
    "near_surface_obs = near_surface_obs.set_index(\"Event\")\n",
    "near_surface_obs"
   ]
  },
  {
   "cell_type": "code",
   "execution_count": null,
   "metadata": {},
   "outputs": [],
   "source": [
    "(\n",
    "    near_surface_obs.hvplot(\"Longitude\", \"Latitude\", geo=True, kind=\"points\")\n",
    "    * gf.coastline\n",
    ")"
   ]
  },
  {
   "cell_type": "markdown",
   "metadata": {
    "nteract": {
     "transient": {
      "deleting": false
     }
    }
   },
   "source": [
    "## Load catalog and fetch data"
   ]
  },
  {
   "cell_type": "code",
   "execution_count": null,
   "metadata": {},
   "outputs": [],
   "source": [
    "model_data_cat = intake.open_catalog(catalog_url)\n",
    "fetch_zenodo_data(\n",
    "    model_data_cat[\"NEMO_ORCA05_FOCI_Test_Minimal_grid_T\"]\n",
    ")\n",
    "fetch_zenodo_data(\n",
    "    model_data_cat[\"NEMO_ORCA05_FOCI_Test_Minimal_mesh_mask\"]\n",
    ")"
   ]
  },
  {
   "cell_type": "markdown",
   "metadata": {},
   "source": [
    "## Restrict to Atlantic, calc mean SST, plot with obs positions"
   ]
  },
  {
   "cell_type": "code",
   "execution_count": null,
   "metadata": {},
   "outputs": [],
   "source": [
    "model_dataset = model_data_cat[\"NEMO_ORCA05_FOCI_Test_Minimal_grid_T\"].to_dask()\n",
    "model_dataset = model_dataset.set_coords([\"nav_lat\", \"nav_lon\"])\n",
    "\n",
    "# restrict to equatorial Atlantic\n",
    "# this helps getting rid of non-monotonicity of the coord fields\n",
    "model_dataset = model_dataset.isel(x=slice(410, 620), y=slice(150, 350))\n",
    "\n",
    "# need compute / cast to numpy array here in order for datashade to work\n",
    "# (see https://datashader.org/user_guide/Performance.html)\n",
    "model_mean_sst = model_dataset.sosstsst.mean(\"time_counter\").compute()"
   ]
  },
  {
   "cell_type": "code",
   "execution_count": null,
   "metadata": {},
   "outputs": [],
   "source": [
    "(\n",
    "    model_mean_sst.hvplot.quadmesh(\n",
    "        \"nav_lon\", \"nav_lat\",\n",
    "        geo=True, datashade=True)\n",
    "    * near_surface_obs.hvplot(\n",
    "        \"Longitude\", \"Latitude\",\n",
    "        geo=True, kind=\"points\", color=\"red\")\n",
    "    * gf.coastline\n",
    ")"
   ]
  },
  {
   "cell_type": "markdown",
   "metadata": {},
   "source": [
    "## Extract model data along ship track"
   ]
  },
  {
   "cell_type": "code",
   "execution_count": null,
   "metadata": {},
   "outputs": [],
   "source": [
    "# Need the grid definitions\n",
    "model_meshmask = model_data_cat[\"NEMO_ORCA05_FOCI_Test_Minimal_mesh_mask\"].to_dask()\n",
    "model_meshmask = model_meshmask.isel(x=slice(410, 620), y=slice(150, 350))\n",
    "model_meshmask"
   ]
  },
  {
   "cell_type": "code",
   "execution_count": null,
   "metadata": {},
   "outputs": [],
   "source": [
    "positions = list(zip(\n",
    "    near_surface_obs[\"Longitude\"],\n",
    "    near_surface_obs[\"Latitude\"]\n",
    "))\n",
    "\n",
    "depths = near_surface_obs[\"Depth water\"].to_xarray()\n",
    "depths\n",
    "\n",
    "lat_ind, lon_ind = xll2ij.get_ij(\n",
    "    model_meshmask, positions, 't', xgcm=False, xarray_out=True)\n",
    "lat_ind = lat_ind.rename({\"location\": \"Event\"})\n",
    "lon_ind = lon_ind.rename({\"location\": \"Event\"})"
   ]
  },
  {
   "cell_type": "code",
   "execution_count": null,
   "metadata": {},
   "outputs": [],
   "source": [
    "ship_track_data = model_dataset.isel(y=lat_ind, x=lon_ind)\n",
    "ship_track_data = ship_track_data.where(track_data.votemper != 0)\n",
    "\n",
    "display(ship_track_data)"
   ]
  },
  {
   "cell_type": "code",
   "execution_count": null,
   "metadata": {},
   "outputs": [],
   "source": [
    "ship_track_data_near_surface = ship_track_data.sel(deptht=depths, method=\"nearest\")\n",
    "ship_track_data_near_surface"
   ]
  },
  {
   "cell_type": "markdown",
   "metadata": {},
   "source": [
    "## Create some water mass plots for the obs and model data"
   ]
  },
  {
   "cell_type": "code",
   "execution_count": null,
   "metadata": {},
   "outputs": [],
   "source": [
    "(\n",
    "    ship_track_data_near_surface.votemper.mean(\"time_counter\").to_pandas().hvplot()\n",
    "    * near_surface_obs[\"Temp\"].hvplot()\n",
    ")"
   ]
  },
  {
   "cell_type": "code",
   "execution_count": null,
   "metadata": {},
   "outputs": [],
   "source": [
    "(\n",
    "    ship_track_data_near_surface.vosaline.mean(\"time_counter\").to_pandas().hvplot()\n",
    "    * near_surface_obs[\"Sal\"].hvplot()\n",
    ")"
   ]
  },
  {
   "cell_type": "code",
   "execution_count": null,
   "metadata": {},
   "outputs": [],
   "source": [
    "(\n",
    "    obs_df.hvplot.scatter(\n",
    "        \"Temp\", \"Sal\", \n",
    "        datashade=True,\n",
    "        ylim=[33, 37]\n",
    "    )\n",
    "    * near_surface_obs.hvplot.scatter(\n",
    "        \"Temp\", \"Sal\", color=\"red\", alpha=0.2\n",
    "    )\n",
    "    * ship_track_data_near_surface.isel(time_counter=10).to_dataframe().hvplot.scatter(\n",
    "        \"votemper\", \"vosaline\", color=\"green\", alpha=0.1\n",
    "    )\n",
    "    + ship_track_data.isel(time_counter=10).to_dataframe().hvplot.scatter(\n",
    "        \"votemper\", \"vosaline\", datashade=True,\n",
    "        ylim=[33, 37]\n",
    "    )\n",
    ").cols(1)"
   ]
  }
 ],
 "metadata": {
  "kernelspec": {
   "display_name": "Python 3",
   "language": "python",
   "name": "python3"
  },
  "language_info": {
   "codemirror_mode": {
    "name": "ipython",
    "version": 3
   },
   "file_extension": ".py",
   "mimetype": "text/x-python",
   "name": "python",
   "nbconvert_exporter": "python",
   "pygments_lexer": "ipython3",
   "version": "3.8.2"
  },
  "nteract": {
   "version": "0.22.4"
  }
 },
 "nbformat": 4,
 "nbformat_minor": 4
}
