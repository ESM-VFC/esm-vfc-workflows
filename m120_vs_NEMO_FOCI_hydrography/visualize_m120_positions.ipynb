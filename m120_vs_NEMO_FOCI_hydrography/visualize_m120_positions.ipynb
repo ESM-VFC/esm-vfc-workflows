{
 "cells": [
  {
   "cell_type": "markdown",
   "metadata": {},
   "source": [
    "# Hydrographic obs from the M120 cruise and from NEMO"
   ]
  },
  {
   "cell_type": "code",
   "execution_count": null,
   "metadata": {},
   "outputs": [],
   "source": [
    "# parameters\n",
    "\n",
    "esm_vfc_data_dir = \"../esm-vfc-data/\"\n",
    "catalog_url = \"https://raw.githubusercontent.com/ESM-VFC/esm-vfc-catalogs/master/catalogs/NEMO_ORCA05_FOCI_Test_Minimal.yaml\"\n",
    "obs_data_doi = \"10.1594/PANGAEA.868654\""
   ]
  },
  {
   "cell_type": "markdown",
   "metadata": {},
   "source": [
    "## Tech preamble"
   ]
  },
  {
   "cell_type": "code",
   "execution_count": null,
   "metadata": {},
   "outputs": [],
   "source": [
    "# set up intake catalog\n",
    "import intake\n",
    "from esmvfc_cattools import fetch_zenodo_data\n",
    "import os\n",
    "\n",
    "os.environ[\"ESM_VFC_DATA_DIR\"] = esm_vfc_data_dir"
   ]
  },
  {
   "cell_type": "code",
   "execution_count": null,
   "metadata": {},
   "outputs": [],
   "source": [
    "# be able to load data directly from Pangaea.de\n",
    "from pangaeapy.pandataset import PanDataSet"
   ]
  },
  {
   "cell_type": "code",
   "execution_count": null,
   "metadata": {},
   "outputs": [],
   "source": [
    "# set up plotting\n",
    "import hvplot.pandas\n",
    "import hvplot.xarray\n",
    "import geoviews.feature as gf\n",
    "from cartopy import crs"
   ]
  },
  {
   "cell_type": "markdown",
   "metadata": {
    "nteract": {
     "transient": {
      "deleting": false
     }
    }
   },
   "source": [
    "## Get obs data, extract near-surface measurements, plot positions"
   ]
  },
  {
   "cell_type": "code",
   "execution_count": null,
   "metadata": {},
   "outputs": [],
   "source": [
    "obs_data = PanDataSet(obs_data_doi)\n",
    "obs_df = obs_data.data  # Pandas dataframe"
   ]
  },
  {
   "cell_type": "code",
   "execution_count": null,
   "metadata": {},
   "outputs": [],
   "source": [
    "display(obs_data.title)\n",
    "display(obs_df.head())"
   ]
  },
  {
   "cell_type": "code",
   "execution_count": null,
   "metadata": {},
   "outputs": [],
   "source": [
    "near_surface_obs = obs_df.loc[\n",
    "    obs_df.groupby(\"Event\")[\"Depth water\"].idxmin()\n",
    "]"
   ]
  },
  {
   "cell_type": "code",
   "execution_count": null,
   "metadata": {},
   "outputs": [],
   "source": [
    "(\n",
    "    near_surface_obs.hvplot(\"Longitude\", \"Latitude\", geo=True, kind=\"points\")\n",
    "    * gf.coastline\n",
    ")"
   ]
  },
  {
   "cell_type": "markdown",
   "metadata": {
    "nteract": {
     "transient": {
      "deleting": false
     }
    }
   },
   "source": [
    "## Load catalog and fetch data"
   ]
  },
  {
   "cell_type": "code",
   "execution_count": null,
   "metadata": {},
   "outputs": [],
   "source": [
    "model_data_cat = intake.open_catalog(catalog_url)\n",
    "fetch_zenodo_data(\n",
    "    model_data_cat[\"NEMO_ORCA05_FOCI_Test_Minimal_grid_T\"]\n",
    ")"
   ]
  },
  {
   "cell_type": "markdown",
   "metadata": {},
   "source": [
    "## Restrict to Atlantic, calc mean SST, plot with obs positions"
   ]
  },
  {
   "cell_type": "code",
   "execution_count": null,
   "metadata": {},
   "outputs": [],
   "source": [
    "model_dataset = model_data_cat[\"NEMO_ORCA05_FOCI_Test_Minimal_grid_T\"].to_dask()\n",
    "model_dataset = model_dataset.set_coords([\"nav_lat\", \"nav_lon\"])\n",
    "\n",
    "# restrict to equatorial Atlantic\n",
    "# this helps getting rid of non-monotonicity of the coord fields\n",
    "model_dataset = model_dataset.isel(x=slice(410, 620), y=slice(150, 350))\n",
    "\n",
    "# need compute / cast to numpy array here in order for datashade to work\n",
    "# (see https://datashader.org/user_guide/Performance.html)\n",
    "model_mean_sst = model_dataset.sosstsst.mean(\"time_counter\").compute()"
   ]
  },
  {
   "cell_type": "code",
   "execution_count": null,
   "metadata": {},
   "outputs": [],
   "source": [
    "(\n",
    "    model_mean_sst.hvplot.quadmesh(\n",
    "        \"nav_lon\", \"nav_lat\",\n",
    "        geo=True, datashade=True)\n",
    "    * near_surface_obs.hvplot(\n",
    "        \"Longitude\", \"Latitude\",\n",
    "        geo=True, kind=\"points\", color=\"red\")\n",
    "    * gf.coastline\n",
    ")"
   ]
  }
 ],
 "metadata": {
  "kernelspec": {
   "display_name": "Python 3",
   "language": "python",
   "name": "python3"
  },
  "language_info": {
   "codemirror_mode": {
    "name": "ipython",
    "version": 3
   },
   "file_extension": ".py",
   "mimetype": "text/x-python",
   "name": "python",
   "nbconvert_exporter": "python",
   "pygments_lexer": "ipython3",
   "version": "3.8.2"
  },
  "nteract": {
   "version": "0.22.4"
  }
 },
 "nbformat": 4,
 "nbformat_minor": 4
}
