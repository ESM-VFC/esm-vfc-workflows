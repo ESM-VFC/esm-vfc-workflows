{
 "cells": [
  {
   "cell_type": "markdown",
   "metadata": {},
   "source": [
    "# Meteorcruise vs. FOCI NEMO Test data"
   ]
  },
  {
   "cell_type": "markdown",
   "metadata": {},
   "source": [
    "_**ATTENTION:** This will load > 5G from the internet, store it on Disk, and consume O(50GB) of memory when running. SO make sure you're fine with this kind of resource use before hitting \"Run all cells\"._"
   ]
  },
  {
   "cell_type": "markdown",
   "metadata": {},
   "source": [
    "## Description\n",
    "\n",
    "We use an [Intake driver](https://github.com/ESM-VFC/intake_pangaeapy) for [`pangaeapy`](https://github.com/pangaea-data-publisher/pangaeapy) to load hydrographic observational data from Meteor cruises M85/1, M85/2, M90, M105, M120 and\n",
    "- plot positions on a map\n",
    "- create a [temperature-salinity diagram](https://en.wikipedia.org/wiki/Temperature%E2%80%93salinity_diagram) of all cruises.\n",
    "\n",
    "We load a NEMO test dataset that covers the same time on the calendar and\n",
    "- plot surface temperature on a map together with the observed temperature\n",
    "- select data for the same locations and time stamps as in the observational data set and repeate the temperature-salinity diagrams\n",
    " \n",
    "Along the way, there's a few obstacles:\n",
    "- Selecting NEMO data on a curvilinear horizontal grid is not directly implemented in xarray, so we use [`xorca_lonlat2ij`](git.geomar.de/python/xorca_lonlat2ij) to find closest indices on the sphere.\n",
    "- We need to un-elegantly mask the data using the fact that over land, the values never change from an exact `0`, because the mask info is in a different file (the mesh-mask) than the actual data.\n",
    "\n",
    "_**Note** that we cannot expect a lot of similarity between the in-sity observational data and a free running climate model._"
   ]
  },
  {
   "cell_type": "markdown",
   "metadata": {},
   "source": [
    "## Parameters"
   ]
  },
  {
   "cell_type": "code",
   "execution_count": null,
   "metadata": {},
   "outputs": [],
   "source": [
    "# parameters\n",
    "\n",
    "esm_vfc_data_dir = \"../esm-vfc-data/\"\n",
    "nemo_catalog_url = \"https://raw.githubusercontent.com/ESM-VFC/esm-vfc-catalogs/master/catalogs/NEMO_ORCA05_FOCI_Test_Full.yaml\"\n",
    "meteor_catalog_url = \"https://raw.githubusercontent.com/ESM-VFC/esm-vfc-catalogs/master/catalogs/METEOR_cruises.yaml\"\n",
    "host = !hostname\n",
    "host = host[0]\n",
    "dask_cluster_args = dict(n_workers=4, threads_per_worker=2, memory_limit=12e9, host=host)"
   ]
  },
  {
   "cell_type": "markdown",
   "metadata": {},
   "source": [
    "## Tech preamble"
   ]
  },
  {
   "cell_type": "code",
   "execution_count": null,
   "metadata": {},
   "outputs": [],
   "source": [
    "import numpy as np\n",
    "import pandas as pd\n",
    "import xarray as xr"
   ]
  },
  {
   "cell_type": "code",
   "execution_count": null,
   "metadata": {},
   "outputs": [],
   "source": [
    "# set up intake catalog\n",
    "import intake\n",
    "from esmvfc_cattools import download_zenodo_files_for_entry\n",
    "import os\n",
    "\n",
    "os.environ[\"ESM_VFC_DATA_DIR\"] = esm_vfc_data_dir"
   ]
  },
  {
   "cell_type": "code",
   "execution_count": null,
   "metadata": {},
   "outputs": [],
   "source": [
    "# set up plotting\n",
    "import hvplot.pandas\n",
    "import hvplot.xarray\n",
    "import geoviews.feature as gf\n",
    "from holoviews.operation import decimate\n",
    "from cartopy import crs"
   ]
  },
  {
   "cell_type": "code",
   "execution_count": null,
   "metadata": {},
   "outputs": [],
   "source": [
    "import xorca_lonlat2ij as xll2ij"
   ]
  },
  {
   "cell_type": "code",
   "execution_count": null,
   "metadata": {},
   "outputs": [],
   "source": [
    "# set up Dask cluster\n",
    "from dask.distributed import Client\n",
    "client = Client(**dask_cluster_args)\n",
    "client"
   ]
  },
  {
   "cell_type": "markdown",
   "metadata": {
    "nteract": {
     "transient": {
      "deleting": false
     }
    }
   },
   "source": [
    "## Get obs data, extract near-surface measurements, plot positions"
   ]
  },
  {
   "cell_type": "code",
   "execution_count": null,
   "metadata": {},
   "outputs": [],
   "source": [
    "meteor_catalog = intake.open_catalog(meteor_catalog_url)\n",
    "list(meteor_catalog)"
   ]
  },
  {
   "cell_type": "code",
   "execution_count": null,
   "metadata": {},
   "outputs": [],
   "source": [
    "# OPTIMIZE: Here we could go for dask dataframes partitioned across the cruises.\n",
    "obs_df = pd.concat(\n",
    "    (\n",
    "        meteor_catalog[\"M85_1_bottles\"].read(),\n",
    "        meteor_catalog[\"M85_2_bottles\"].read(),\n",
    "        meteor_catalog[\"M90_bottles\"].read(),\n",
    "        meteor_catalog[\"M106_bottles\"].read(),\n",
    "        meteor_catalog[\"M120_bottles\"].read()\n",
    "    ),\n",
    "    ignore_index=True\n",
    ")"
   ]
  },
  {
   "cell_type": "code",
   "execution_count": null,
   "metadata": {},
   "outputs": [],
   "source": [
    "# Construct and \"Event\" column that contains the profile number.\n",
    "# We need to account for the fact that some cruises already have merged\n",
    "# station and profile events, however.\n",
    "obs_df[\"Event\"] = obs_df[\"Event\"].where(\n",
    "    obs_df[\"Profile\"].isnull(),\n",
    "    obs_df[\"Event\"] + \"-\" + obs_df[\"Profile\"].fillna(\"-99\").astype(int).astype(str)\n",
    ")\n",
    "obs_df = obs_df.drop(columns=[\"Profile\"])"
   ]
  },
  {
   "cell_type": "code",
   "execution_count": null,
   "metadata": {},
   "outputs": [],
   "source": [
    "obs_df"
   ]
  },
  {
   "cell_type": "code",
   "execution_count": null,
   "metadata": {},
   "outputs": [],
   "source": [
    "# restrict to measurements at minimal depth per Event (= station)\n",
    "near_surface_obs = obs_df.loc[\n",
    "    obs_df.groupby(\"Event\")[\"Depth water\"].idxmin()\n",
    "]\n",
    "near_surface_obs = near_surface_obs.set_index(\"Event\")\n",
    "near_surface_obs"
   ]
  },
  {
   "cell_type": "code",
   "execution_count": null,
   "metadata": {},
   "outputs": [],
   "source": [
    "(\n",
    "    near_surface_obs.hvplot(\n",
    "        \"Longitude\", \"Latitude\", geo=True, kind=\"points\", hover=False)\n",
    "    * gf.coastline\n",
    ")"
   ]
  },
  {
   "cell_type": "markdown",
   "metadata": {},
   "source": [
    "_**FIXME:** Hover tool shows wrong values (\"Latitude: 7945355th\"???)._"
   ]
  },
  {
   "cell_type": "code",
   "execution_count": null,
   "metadata": {},
   "outputs": [],
   "source": [
    "len(obs_df), len(near_surface_obs)"
   ]
  },
  {
   "cell_type": "code",
   "execution_count": null,
   "metadata": {},
   "outputs": [],
   "source": [
    "(\n",
    "    decimate(obs_df.hvplot.scatter(\"Temp\", \"Sal\", alpha=0.2, label=\"all data\", hover=False), max_samples=2_000)\n",
    "    * decimate(\n",
    "        near_surface_obs.hvplot.scatter(\"Temp\", \"Sal\", alpha=0.8, label=\"surface data\", hover=False),\n",
    "        max_samples=int(2_000 * len(near_surface_obs)**0.5 / len(obs_df)**0.5)  # same thinning as other set of points\n",
    "    )\n",
    ")"
   ]
  },
  {
   "cell_type": "markdown",
   "metadata": {
    "nteract": {
     "transient": {
      "deleting": false
     }
    }
   },
   "source": [
    "## Load catalog and fetch data"
   ]
  },
  {
   "cell_type": "code",
   "execution_count": null,
   "metadata": {},
   "outputs": [],
   "source": [
    "model_data_cat = intake.open_catalog(nemo_catalog_url)\n",
    "download_zenodo_files_for_entry(\n",
    "    model_data_cat[\"NEMO_ORCA05_FOCI_Test_grid_T\"]\n",
    ")\n",
    "download_zenodo_files_for_entry(\n",
    "    model_data_cat[\"NEMO_ORCA05_FOCI_Test_mesh_mask\"]\n",
    ")"
   ]
  },
  {
   "cell_type": "markdown",
   "metadata": {},
   "source": [
    "## Restrict to North Atlantic, calc mean SST, plot with obs positions"
   ]
  },
  {
   "cell_type": "code",
   "execution_count": null,
   "metadata": {},
   "outputs": [],
   "source": [
    "# hydrographic data\n",
    "model_dataset = model_data_cat[\"NEMO_ORCA05_FOCI_Test_grid_T\"](\n",
    "    chunks={\"time_counter\": 1, \"deptht\": 23}\n",
    ").to_dask()\n",
    "model_dataset = model_dataset.set_coords([\"nav_lat\", \"nav_lon\"])\n",
    "model_dataset[\"nav_lat\"] = model_dataset[\"nav_lat\"].isel(time_counter=0).squeeze()\n",
    "model_dataset[\"nav_lon\"] = model_dataset[\"nav_lon\"].isel(time_counter=0).squeeze()\n",
    "model_dataset = xr.decode_cf(model_dataset)\n",
    "\n",
    "# Need the grid definitions\n",
    "model_meshmask = model_data_cat[\"NEMO_ORCA05_FOCI_Test_mesh_mask\"](\n",
    "    chunks={\"z\": 23}\n",
    ").to_dask()\n",
    "model_meshmask = model_meshmask.squeeze()\n",
    "model_meshmask = xr.decode_cf(model_meshmask)"
   ]
  },
  {
   "cell_type": "code",
   "execution_count": null,
   "metadata": {},
   "outputs": [],
   "source": [
    "display(model_dataset)\n",
    "display(f\"{model_dataset.nbytes / 1e9} GB\")"
   ]
  },
  {
   "cell_type": "code",
   "execution_count": null,
   "metadata": {},
   "outputs": [],
   "source": [
    "display(model_meshmask)\n",
    "display(f\"{model_meshmask.nbytes / 1e9} GB\")"
   ]
  },
  {
   "cell_type": "code",
   "execution_count": null,
   "metadata": {},
   "outputs": [],
   "source": [
    "# need compute / cast to numpy array here in order for datashade to work\n",
    "# (see https://datashader.org/user_guide/Performance.html)\n",
    "model_mean_sst = model_dataset.sosstsst.mean(\"time_counter\").compute()\n",
    "model_mean_sst = model_mean_sst.where(model_mean_sst != 0)"
   ]
  },
  {
   "cell_type": "code",
   "execution_count": null,
   "metadata": {},
   "outputs": [],
   "source": [
    "(\n",
    "    model_mean_sst.hvplot.quadmesh(\n",
    "        \"nav_lon\", \"nav_lat\",\n",
    "        geo=True, datashade=True, hover=False)\n",
    "    * near_surface_obs.hvplot(\n",
    "        \"Longitude\", \"Latitude\",\n",
    "        geo=True, kind=\"points\", color=\"red\", hover=False)\n",
    "    * gf.land * gf.coastline\n",
    ")"
   ]
  },
  {
   "cell_type": "markdown",
   "metadata": {},
   "source": [
    "## Extract model data along ship track (surface positions)"
   ]
  },
  {
   "cell_type": "code",
   "execution_count": null,
   "metadata": {},
   "outputs": [],
   "source": [
    "xll2ij.get_ij?"
   ]
  },
  {
   "cell_type": "code",
   "execution_count": null,
   "metadata": {},
   "outputs": [],
   "source": [
    "positions = list(zip(\n",
    "    near_surface_obs[\"Latitude\"],\n",
    "    near_surface_obs[\"Longitude\"],\n",
    "))\n",
    "\n",
    "depths = near_surface_obs[\"Depth water\"].to_xarray()\n",
    "depths\n",
    "\n",
    "times = near_surface_obs[\"Date/Time\"].to_xarray()\n",
    "\n",
    "lat_ind, lon_ind = xll2ij.get_ij(\n",
    "    model_meshmask, positions, 't', xgcm=False, xarray_out=True)\n",
    "lat_ind = lat_ind.rename({\"location\": \"Event\"})\n",
    "lon_ind = lon_ind.rename({\"location\": \"Event\"})"
   ]
  },
  {
   "cell_type": "code",
   "execution_count": null,
   "metadata": {},
   "outputs": [],
   "source": [
    "model_dataset[\"deptht\"] = model_dataset[\"deptht\"].compute()\n",
    "model_dataset[\"time_counter\"] = model_dataset[\"time_counter\"].compute()\n",
    "model_dataset[\"y\"] = np.arange(model_dataset.dims[\"y\"])\n",
    "model_dataset[\"x\"] = np.arange(model_dataset.dims[\"x\"])"
   ]
  },
  {
   "cell_type": "code",
   "execution_count": null,
   "metadata": {},
   "outputs": [],
   "source": [
    "# select\n",
    "ship_track_data = model_dataset.isel(y=lat_ind, x=lon_ind)\n",
    "ship_track_data = ship_track_data.sel(deptht=depths, method=\"nearest\")\n",
    "ship_track_data = ship_track_data.sel(time_counter=times, method=\"nearest\")\n",
    "\n",
    "# mask\n",
    "ship_track_data = ship_track_data.where(ship_track_data.votemper != 0)\n",
    "\n",
    "display(ship_track_data)"
   ]
  },
  {
   "cell_type": "code",
   "execution_count": null,
   "metadata": {},
   "outputs": [],
   "source": [
    "%%time\n",
    "\n",
    "ship_track_data = ship_track_data.compute()"
   ]
  },
  {
   "cell_type": "code",
   "execution_count": null,
   "metadata": {},
   "outputs": [],
   "source": [
    "(\n",
    "    ship_track_data.to_dataframe().hvplot.scatter(\"votemper\", \"vosaline\", label=\"surface data, model\", hover=False)\n",
    "    * near_surface_obs.hvplot.scatter(\"Temp\", \"Sal\", alpha=0.8, label=\"surface data, obs\", hover=False)\n",
    ")"
   ]
  },
  {
   "cell_type": "markdown",
   "metadata": {},
   "source": [
    "## Extract model data along ship track (all depths)"
   ]
  },
  {
   "cell_type": "code",
   "execution_count": null,
   "metadata": {},
   "outputs": [],
   "source": [
    "positions = list(zip(\n",
    "    obs_df[\"Latitude\"],\n",
    "    obs_df[\"Longitude\"],\n",
    "))\n",
    "\n",
    "depths = obs_df[\"Depth water\"].to_xarray()\n",
    "depths\n",
    "\n",
    "times = obs_df[\"Date/Time\"].to_xarray()\n",
    "\n",
    "lat_ind, lon_ind = xll2ij.get_ij(\n",
    "    model_meshmask, positions, 't', xgcm=False, xarray_out=True)\n",
    "lat_ind = lat_ind.rename({\"location\": \"index\"})\n",
    "lon_ind = lon_ind.rename({\"location\": \"index\"})"
   ]
  },
  {
   "cell_type": "code",
   "execution_count": null,
   "metadata": {},
   "outputs": [],
   "source": [
    "len(lon_ind)"
   ]
  },
  {
   "cell_type": "code",
   "execution_count": null,
   "metadata": {},
   "outputs": [],
   "source": [
    "%%time\n",
    "\n",
    "# OPTIMIZE: Here, we have ~ 800_000 positions that we select.\n",
    "#           If we don't fully load the dataset before computing,\n",
    "#           we're left with an enormous Dask graph.\n",
    "model_dataset = model_dataset.compute()\n",
    "\n",
    "# select\n",
    "ship_track_data = model_dataset.sel(\n",
    "    y=lat_ind, x=lon_ind, deptht=depths, time_counter=times, method=\"nearest\"\n",
    ")\n",
    "\n",
    "# mask\n",
    "ship_track_data = ship_track_data.where(ship_track_data.votemper != 0)\n",
    "\n",
    "display(ship_track_data)"
   ]
  },
  {
   "cell_type": "code",
   "execution_count": null,
   "metadata": {},
   "outputs": [],
   "source": [
    "%%time\n",
    "\n",
    "all_depths_plot = (\n",
    "    decimate(\n",
    "        ship_track_data.to_dataframe().hvplot.scatter(\n",
    "            \"votemper\", \"vosaline\", alpha=0.4, label=\"surface data, model\", hover=False\n",
    "        )\n",
    "    )\n",
    "    * decimate(\n",
    "        obs_df.hvplot.scatter(\n",
    "            \"Tpot\", \"Sal\", alpha=0.4, label=\"surface data, obs\", hover=False\n",
    "        )\n",
    "    )\n",
    ")"
   ]
  },
  {
   "cell_type": "code",
   "execution_count": null,
   "metadata": {},
   "outputs": [],
   "source": [
    "all_depths_plot"
   ]
  }
 ],
 "metadata": {
  "kernelspec": {
   "display_name": "Python 3",
   "language": "python",
   "name": "python3"
  },
  "language_info": {
   "codemirror_mode": {
    "name": "ipython",
    "version": 3
   },
   "file_extension": ".py",
   "mimetype": "text/x-python",
   "name": "python",
   "nbconvert_exporter": "python",
   "pygments_lexer": "ipython3",
   "version": "3.7.6"
  },
  "nteract": {
   "version": "0.22.4"
  }
 },
 "nbformat": 4,
 "nbformat_minor": 4
}
