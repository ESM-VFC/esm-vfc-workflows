{
 "cells": [
  {
   "cell_type": "markdown",
   "metadata": {},
   "source": [
    "# NEMO CF Demo with GYRE dataset"
   ]
  },
  {
   "cell_type": "markdown",
   "metadata": {},
   "source": [
    "## Parameters"
   ]
  },
  {
   "cell_type": "code",
   "execution_count": null,
   "metadata": {},
   "outputs": [],
   "source": [
    "# parameters\n",
    "\n",
    "esm_vfc_data_dir = \"../esm-vfc-data/\"\n",
    "nemo_catalog_url = \"https://raw.githubusercontent.com/ESM-VFC/esm-vfc-catalogs/master/catalogs/NEMO_GYRE_Test.yaml\""
   ]
  },
  {
   "cell_type": "markdown",
   "metadata": {},
   "source": [
    "## Tech preamble"
   ]
  },
  {
   "cell_type": "code",
   "execution_count": null,
   "metadata": {},
   "outputs": [],
   "source": [
    "import numpy as np\n",
    "import xarray as xr"
   ]
  },
  {
   "cell_type": "code",
   "execution_count": null,
   "metadata": {},
   "outputs": [],
   "source": [
    "# set up intake catalog\n",
    "import intake\n",
    "from esmvfc_cattools import download_zenodo_files_for_entry\n",
    "import os\n",
    "\n",
    "os.environ[\"ESM_VFC_DATA_DIR\"] = esm_vfc_data_dir"
   ]
  },
  {
   "cell_type": "code",
   "execution_count": null,
   "metadata": {},
   "outputs": [],
   "source": [
    "# set up plotting\n",
    "import hvplot.pandas\n",
    "import hvplot.xarray\n",
    "import geoviews.feature as gf\n",
    "from cartopy import crs"
   ]
  },
  {
   "cell_type": "markdown",
   "metadata": {
    "nteract": {
     "transient": {
      "deleting": false
     }
    }
   },
   "source": [
    "## Load catalog and fetch data"
   ]
  },
  {
   "cell_type": "code",
   "execution_count": null,
   "metadata": {},
   "outputs": [],
   "source": [
    "model_data_cat = intake.open_catalog(nemo_catalog_url)\n",
    "list(model_data_cat)"
   ]
  },
  {
   "cell_type": "code",
   "execution_count": null,
   "metadata": {},
   "outputs": [],
   "source": [
    "import logging\n",
    "logging.basicConfig(level=logging.DEBUG)"
   ]
  },
  {
   "cell_type": "code",
   "execution_count": null,
   "metadata": {},
   "outputs": [],
   "source": [
    "for entry in model_data_cat:\n",
    "    download_zenodo_files_for_entry(model_data_cat[entry], force_download=True)"
   ]
  },
  {
   "cell_type": "code",
   "execution_count": null,
   "metadata": {},
   "outputs": [],
   "source": [
    "model_data_cat.NEMO_GYRE_Test_grid_T(xarray_kwargs={\"decode_cf\": False}).read()"
   ]
  },
  {
   "cell_type": "code",
   "execution_count": null,
   "metadata": {},
   "outputs": [],
   "source": [
    "data_ds = {k: v(xarray_kwargs={\"decode_cf\": False}).read() for k, v in model_data_cat.items() if \"mesh_mask\" not in k}\n",
    "print(data_ds.keys())\n",
    "\n",
    "aux_ds = {k: v(xarray_kwargs={\"decode_cf\": False}).read() for k, v in model_data_cat.items() if k not in data_ds}\n",
    "print(aux_ds.keys())"
   ]
  },
  {
   "cell_type": "code",
   "execution_count": null,
   "metadata": {},
   "outputs": [],
   "source": [
    "%pip install git+https://github.com/willirath/nemo_cf@7-convert-coords-data-fields --upgrade"
   ]
  },
  {
   "cell_type": "code",
   "execution_count": null,
   "metadata": {},
   "outputs": [],
   "source": [
    "from nemo_cf.nemo_cf import update_mesh_mask_dataset"
   ]
  },
  {
   "cell_type": "code",
   "execution_count": null,
   "metadata": {},
   "outputs": [],
   "source": [
    "aux_ds[\"NEMO_GYRE_Test_mesh_mask\"] = update_mesh_mask_dataset(aux_ds[\"NEMO_GYRE_Test_mesh_mask\"])\n",
    "aux_ds[\"NEMO_GYRE_Test_mesh_mask\"]"
   ]
  },
  {
   "cell_type": "code",
   "execution_count": null,
   "metadata": {},
   "outputs": [],
   "source": [
    "def remove_time_counter(ds):\n",
    "    try:\n",
    "        return ds.drop([\"time_counter\", ])    \n",
    "    except ValueError as e:\n",
    "        return ds"
   ]
  },
  {
   "cell_type": "code",
   "execution_count": null,
   "metadata": {},
   "outputs": [],
   "source": [
    "aux_ds[\"NEMO_GYRE_Test_mesh_mask\"] = remove_time_counter(aux_ds[\"NEMO_GYRE_Test_mesh_mask\"])\n",
    "aux_ds[\"NEMO_GYRE_Test_mesh_mask\"]"
   ]
  },
  {
   "cell_type": "markdown",
   "metadata": {},
   "source": [
    "## Grid detection\n",
    "\n",
    "- vertical coords\n",
    "    - in the data files (`..._grid_T.nc`, `..._icemod.nc`, etc.), the vertical dim is always exactly one of\n",
    "    `[\"deptht\", \"depthu\", \"depthv\", \"depthf\", \"depthw\"]`\n",
    "    - in the mesh-mask files, there's two vars for the vertical axis: `[\"gdept_1d\", \"gdepw_1d\"]`\n",
    "    - we detect actual vertical grids by comparing `[\"deptht\", \"depthu\", \"depthv\", \"depthf\", \"depthw\"]`\n",
    "    to `[\"gdept_1d\", \"gdepw_1d\"]`\n",
    "    \n",
    "- horizontal coords\n",
    "    - in the data files (`..._grid_T.nc`, `..._icemod.nc`, etc.), there horizontal coords are always\n",
    "    `[\"nav_lon\", \"nav_lat\"]`\n",
    "    - in the mesh-mask files, there's the latitude fields `[\"gphit\", \"gphiu\", \"gphiv\", \"gphif\"]` and\n",
    "    the longitude fields `[\"glamt\", \"glamu\", \"glamv\", \"glamf\"]`\n",
    "    - we detect actual horizontal grids by comparing `[\"nav_lon\", \"nav_lat\"]` to `[\"gphit\", \"gphiu\", \"gphiv\", \"gphif\"]` and\n",
    "    `[\"glamt\", \"glamu\", \"glamv\", \"glamf\"]`"
   ]
  },
  {
   "cell_type": "code",
   "execution_count": null,
   "metadata": {},
   "outputs": [],
   "source": [
    "def detect_horizontal_grid(ds, mesh_mask):\n",
    "    tol = min(\n",
    "        abs(mesh_mask[\"glamt\"].diff(\"x\")).min().data,\n",
    "        abs(mesh_mask[\"gphit\"].diff(\"y\")).min().data\n",
    "    ) / 10.0\n",
    "    for hgrid in [\"t\", \"u\", \"v\", \"f\"]:\n",
    "        lat_diff = abs(ds[\"nav_lat\"] - mesh_mask[f\"gphi{hgrid}\"]).max()\n",
    "        lon_diff = abs(ds[\"nav_lon\"] - mesh_mask[f\"glam{hgrid}\"]).max()\n",
    "        if (lat_diff < tol) & (lon_diff < tol):\n",
    "            return hgrid"
   ]
  },
  {
   "cell_type": "code",
   "execution_count": null,
   "metadata": {},
   "outputs": [],
   "source": [
    "detect_horizontal_grid(data_ds[\"NEMO_GYRE_Test_grid_V\"], aux_ds[\"NEMO_GYRE_Test_mesh_mask\"])"
   ]
  },
  {
   "cell_type": "code",
   "execution_count": null,
   "metadata": {},
   "outputs": [],
   "source": [
    "def detect_vertical_grid(ds, mesh_mask):\n",
    "    tol = abs(mesh_mask[\"gdept_1d\"].diff(\"z\")).min().data / 10.0\n",
    "    depth_coord = [k for k in ds.coords if \"depth\" in k][0]\n",
    "    for vgrid in [\"t\", \"w\"]:\n",
    "        z_diff = abs(abs(ds[depth_coord]) - abs(mesh_mask[f\"gdep{vgrid}_1d\"])).min()\n",
    "        if z_diff < tol:\n",
    "            return vgrid"
   ]
  },
  {
   "cell_type": "code",
   "execution_count": null,
   "metadata": {},
   "outputs": [],
   "source": [
    "detect_vertical_grid(data_ds[\"NEMO_GYRE_Test_grid_V\"], aux_ds[\"NEMO_GYRE_Test_mesh_mask\"])"
   ]
  },
  {
   "cell_type": "code",
   "execution_count": null,
   "metadata": {},
   "outputs": [],
   "source": [
    "def detect_grids(ds, mesh_mask):\n",
    "    return {\n",
    "        \"hgrid\": detect_horizontal_grid(ds, mesh_mask),\n",
    "        \"vgrid\": detect_vertical_grid(ds, mesh_mask)\n",
    "    }"
   ]
  },
  {
   "cell_type": "code",
   "execution_count": null,
   "metadata": {},
   "outputs": [],
   "source": [
    "grids = {k: detect_grids(data_ds[k], aux_ds[\"NEMO_GYRE_Test_mesh_mask\"]) for k in data_ds}"
   ]
  },
  {
   "cell_type": "code",
   "execution_count": null,
   "metadata": {},
   "outputs": [],
   "source": [
    "grids"
   ]
  },
  {
   "cell_type": "code",
   "execution_count": null,
   "metadata": {},
   "outputs": [],
   "source": [
    "def safely_rename_dims(dataset, rename_dims_dict=None):\n",
    "    valid_rename_dims_dict = {\n",
    "        dim: rename_dims_dict[dim]\n",
    "        for dim in filter(lambda dim: dim in dataset.dims, rename_dims_dict)\n",
    "    }\n",
    "\n",
    "    return dataset.rename_dims(valid_rename_dims_dict)\n",
    "\n",
    "\n",
    "def safely_rename_vars(dataset, rename_vars_dict=None):\n",
    "    valid_rename_vars_dict = {\n",
    "        var: rename_vars_dict[var]\n",
    "        for var in filter(\n",
    "            lambda var: var in dataset.data_vars or var in dataset.coords,\n",
    "            rename_vars_dict\n",
    "        )\n",
    "    }\n",
    "\n",
    "    return dataset.rename_vars(valid_rename_vars_dict)\n",
    "\n",
    "\n",
    "def update_data_file_coords(dataset, hgrid=None, vgrid=None):\n",
    "    \"\"\"Ensure spatial coords are consistent.\"\"\"\n",
    "    \n",
    "    if vgrid.lower() == \"w\":\n",
    "        nemo_grid = vgrid\n",
    "    else:\n",
    "        nemo_grid = hgrid\n",
    "    \n",
    "    rename_dims_dict = {\n",
    "        f\"depth{nemo_grid.lower()}\": f\"z_{vgrid.lower()}\",\n",
    "        \"y\": f\"y_{hgrid.lower()}\",\n",
    "        \"x\": f\"x_{hgrid.lower()}\"\n",
    "    }\n",
    "    dataset = safely_rename_dims(dataset, rename_dims_dict=rename_dims_dict)\n",
    "\n",
    "    rename_vars_dict = {\n",
    "        f\"depth{nemo_grid.lower()}\": f\"gdep{vgrid.lower()}_1d\",\n",
    "        \"nav_lat\": f\"gphi{hgrid.lower()}\",\n",
    "        \"nav_lon\": f\"glam{hgrid.lower()}\",\n",
    "    }\n",
    "    dataset = safely_rename_vars(dataset, rename_vars_dict=rename_vars_dict)\n",
    "\n",
    "    for v in dataset.data_vars:\n",
    "        if \"coordinates\" in dataset[v].attrs:\n",
    "            for old, new in rename_vars_dict.items():\n",
    "                dataset[v].attrs[\"coordinates\"] = (\n",
    "                    dataset[v].attrs[\"coordinates\"].replace(old, new)\n",
    "                )\n",
    "\n",
    "    return dataset"
   ]
  },
  {
   "cell_type": "code",
   "execution_count": null,
   "metadata": {},
   "outputs": [],
   "source": [
    "data_ds = {\n",
    "    k: update_data_file_coords(\n",
    "        data_ds[k],\n",
    "        **detect_grids(data_ds[k], aux_ds[\"NEMO_GYRE_Test_mesh_mask\"])\n",
    "    ) for k in data_ds.keys()\n",
    "}"
   ]
  },
  {
   "cell_type": "code",
   "execution_count": null,
   "metadata": {},
   "outputs": [],
   "source": [
    "def fix_calendar(ds):\n",
    "    for v in list(ds.data_vars) + list(ds.coords):\n",
    "        try:\n",
    "            if ds[v].attrs[\"calendar\"] == \"360d\":\n",
    "                ds[v].attrs[\"calendar\"] = \"360_day\"\n",
    "        except KeyError as e:\n",
    "            pass\n",
    "    return ds"
   ]
  },
  {
   "cell_type": "code",
   "execution_count": null,
   "metadata": {},
   "outputs": [],
   "source": [
    "data_ds = {\n",
    "    k: fix_calendar(data_ds[k]) for k in data_ds\n",
    "}"
   ]
  },
  {
   "cell_type": "code",
   "execution_count": null,
   "metadata": {},
   "outputs": [],
   "source": [
    "def consolidate_dim_names(ds):\n",
    "    mapping = {\n",
    "        \"x_t\": \"x_c\", \"y_t\": \"y_c\",\n",
    "        \"x_u\": \"x_r\", \"y_u\": \"y_c\",\n",
    "        \"x_v\": \"x_c\", \"y_v\": \"y_r\",\n",
    "        \"x_f\": \"x_r\", \"y_f\": \"y_r\",\n",
    "        \"z_t\": \"z_c\", \"z_w\": \"z_l\"\n",
    "    }\n",
    "    return safely_rename_dims(ds, rename_dims_dict=mapping)\n",
    "\n",
    "\n",
    "def add_dim_coords(ds):\n",
    "    for dim in ds.dims:\n",
    "        if dim.endswith(\"_c\"):\n",
    "            ds.coords[dim] = (\n",
    "                [dim, ],\n",
    "                np.arange(ds.dims[dim]),\n",
    "                {\n",
    "                    \"axis\": dim[0].upper(),\n",
    "                    \"c_grid_axis_shift\": 0\n",
    "                }\n",
    "            )\n",
    "        if dim.endswith(\"_r\"):\n",
    "            ds.coords[dim] = (\n",
    "                [dim, ],\n",
    "                np.arange(ds.dims[dim]) + 0.5,\n",
    "                {\n",
    "                    \"axis\": dim[0].upper(),\n",
    "                    \"c_grid_axis_shift\": +0.5\n",
    "                }\n",
    "            )\n",
    "        if dim.endswith(\"_l\"):\n",
    "            ds.coords[dim] = (\n",
    "                [dim, ],\n",
    "                np.arange(ds.dims[dim]) - 0.5,\n",
    "                {\n",
    "                    \"axis\": dim[0].upper(),\n",
    "                    \"c_grid_axis_shift\": -0.5\n",
    "                }\n",
    "            )\n",
    "    return ds"
   ]
  },
  {
   "cell_type": "code",
   "execution_count": null,
   "metadata": {},
   "outputs": [],
   "source": [
    "data_ds = {k: consolidate_dim_names(v) for k, v in data_ds.items()}"
   ]
  },
  {
   "cell_type": "code",
   "execution_count": null,
   "metadata": {},
   "outputs": [],
   "source": [
    "from xgcm import Grid"
   ]
  },
  {
   "cell_type": "code",
   "execution_count": null,
   "metadata": {},
   "outputs": [],
   "source": [
    "#TODO: Fix for mesh-mask as well."
   ]
  },
  {
   "cell_type": "code",
   "execution_count": null,
   "metadata": {},
   "outputs": [],
   "source": [
    "Grid(\n",
    "    add_dim_coords(xr.decode_cf(xr.merge(data_ds.values()))),\n",
    "    periodic=['X', 'Y']\n",
    ")"
   ]
  }
 ],
 "metadata": {
  "kernelspec": {
   "display_name": "Python 3",
   "language": "python",
   "name": "python3"
  },
  "language_info": {
   "codemirror_mode": {
    "name": "ipython",
    "version": 3
   },
   "file_extension": ".py",
   "mimetype": "text/x-python",
   "name": "python",
   "nbconvert_exporter": "python",
   "pygments_lexer": "ipython3",
   "version": "3.7.6"
  },
  "nteract": {
   "version": "0.22.4"
  }
 },
 "nbformat": 4,
 "nbformat_minor": 4
}
